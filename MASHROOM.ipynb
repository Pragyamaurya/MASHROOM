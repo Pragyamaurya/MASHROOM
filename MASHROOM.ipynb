{
 "cells": [
  {
   "cell_type": "markdown",
   "id": "441df3f4-bea3-4208-9876-61509628ce43",
   "metadata": {},
   "source": [
    "# Problem Statement"
   ]
  },
  {
   "cell_type": "markdown",
   "id": "c8267b47-e358-4f9a-8b9f-0c6dd95c965d",
   "metadata": {},
   "source": [
    "1. Title: Secondary mushroom data\n",
    "\n",
    "2. Sources:\n",
    "\t(a) Mushroom species drawn from source book:\n",
    "\t\tPatrick Hardin.Mushrooms & Toadstools.\n",
    "\t    Zondervan, 1999\n",
    "\t(b) Inspired by this mushroom data:\n",
    "\t\tJeff Schlimmer.Mushroom Data Set. Apr. 1987.\n",
    "\t\turl:https://archive.ics.uci.edu/ml/datasets/Mushroom.\n",
    "\t(c) Repository containing the related Python scripts and all the data sets: https://mushroom.mathematik.uni-marburg.de/files/ \n",
    "\t(d) Author: Dennis Wagner\n",
    "\t(e) Date: 05 September 2020\n",
    "\n",
    "3. Relevant information:\n",
    "\tThis dataset includes 61069 hypothetical mushrooms with caps based on 173 species (353 mushrooms\n",
    "\tper species). Each mushroom is identified as definitely edible, definitely poisonous, or of \n",
    "\tunknown edibility and not recommended (the latter class was combined with the poisonous class).\n",
    "\tOf the 20 variables, 17 are nominal and 3 are metrical.\n",
    "\n",
    "4. Data simulation:\n",
    "\tThe related Python project (Sources (c)) contains a Python module secondary_data_generation.py\n",
    "\tused to generate this data based on primary_data_edited.csv also found in the repository.\n",
    "\tBoth nominal and metrical variables are a result of randomization.\n",
    "\tThe simulated and ordered by species version is found in secondary_data_generated.csv.\n",
    "\tThe randomly shuffled version is found in secondary_data_shuffled.csv.\n",
    "\n",
    "5. Class information:\n",
    "\t1. class\t\tpoisonous=p, edibile=e (binary)\n",
    "\n",
    "6. Variable Information:\n",
    "   (n: nominal, m: metrical; nominal values as sets of values)\n",
    "   1. cap-diameter (m):\t\t\tfloat number in cm\n",
    "   2. cap-shape (n):            bell=b, conical=c, convex=x, flat=f,\n",
    "                                sunken=s, spherical=p, others=o\n",
    "   3. cap-surface (n):          fibrous=i, grooves=g, scaly=y, smooth=s,\n",
    "\t\t\t\t\t\t\t\tshiny=h, leathery=l, silky=k, sticky=t,\n",
    "\t\t\t\t\t\t\t\twrinkled=w, fleshy=e\n",
    "   4. cap-color (n):            brown=n, buff=b, gray=g, green=r, pink=p,\n",
    "\t\t\t\t\t\t\t\tpurple=u, red=e, white=w, yellow=y, blue=l, \n",
    "\t\t\t\t\t\t\t\torange=o,  black=k\n",
    "   5. does-bruise-bleed (n):\tbruises-or-bleeding=t,no=f\n",
    "   6. gill-attachment (n):      adnate=a, adnexed=x, decurrent=d, free=e, \n",
    "\t\t\t\t\t\t\t\tsinuate=s, pores=p, none=f, unknown=?\n",
    "   7. gill-spacing (n):         close=c, distant=d, none=f\n",
    "   8. gill-color (n):           see cap-color + none=f\n",
    "   9. stem-height (m):\t\t\tfloat number in cm\n",
    "   10. stem-width (m):\t\t\tfloat number in mm   \n",
    "   11. stem-root (n):           bulbous=b, swollen=s, club=c, cup=u, equal=e,\n",
    "                                rhizomorphs=z, rooted=r\n",
    "   12. stem-surface (n): \t\tsee cap-surface + none=f\n",
    "   13. stem-color (n):\t\t\tsee cap-color + none=f\n",
    "   14. veil-type (n):           partial=p, universal=u\n",
    "   15. veil-color (n):          see cap-color + none=f\n",
    "   16. has-ring (n):            ring=t, none=f\n",
    "   17. ring-type (n):           cobwebby=c, evanescent=e, flaring=r, grooved=g, \n",
    "\t\t\t\t\t\t\t    large=l, pendant=p, sheathing=s, zone=z, scaly=y, movable=m, none=f, unknown=?\n",
    "   18. spore-print-color (n):   see cap color\n",
    "   19. habitat (n):             grasses=g, leaves=l, meadows=m, paths=p, heaths=h,\n",
    "                                urban=u, waste=w, woods=d\n",
    "   20. season (n):\t\t\t\tspring=s, summer=u, autumn=a, winter=w\n"
   ]
  },
  {
   "cell_type": "code",
   "execution_count": null,
   "id": "42000dca-469b-4c0f-a3b9-c19e1dddf7d6",
   "metadata": {},
   "outputs": [],
   "source": []
  },
  {
   "cell_type": "code",
   "execution_count": null,
   "id": "79a01267-7851-48e2-980a-5abf274acad4",
   "metadata": {},
   "outputs": [],
   "source": []
  },
  {
   "cell_type": "markdown",
   "id": "b2484605-68ba-4523-af54-956a4cfdb131",
   "metadata": {},
   "source": [
    "# IMPORTING BASIC LIBRARIES"
   ]
  },
  {
   "cell_type": "code",
   "execution_count": 2,
   "id": "cf74785e-951b-4275-9b5f-823672256062",
   "metadata": {},
   "outputs": [],
   "source": [
    "import pandas as pd \n",
    "import numpy as np\n",
    "import matplotlib.pyplot as plt\n",
    "import warnings\n",
    "warnings.filterwarnings(\"ignore\")"
   ]
  },
  {
   "cell_type": "code",
   "execution_count": 3,
   "id": "0be05cf2-aecd-4536-8bbe-142ec4725a4b",
   "metadata": {},
   "outputs": [],
   "source": [
    "pd.set_option(\"display.max_columns\",None)"
   ]
  },
  {
   "cell_type": "code",
   "execution_count": null,
   "id": "58db2c32-3ed3-4da7-8b05-01b262e7577d",
   "metadata": {},
   "outputs": [],
   "source": []
  },
  {
   "cell_type": "markdown",
   "id": "8a48935c-c4e8-47b0-8115-63c6f30c54bf",
   "metadata": {},
   "source": [
    "# READING DATASET"
   ]
  },
  {
   "cell_type": "code",
   "execution_count": 18,
   "id": "1bab8c06-cbbd-4985-b855-6dfb944d9280",
   "metadata": {},
   "outputs": [
    {
     "data": {
      "text/html": [
       "<div>\n",
       "<style scoped>\n",
       "    .dataframe tbody tr th:only-of-type {\n",
       "        vertical-align: middle;\n",
       "    }\n",
       "\n",
       "    .dataframe tbody tr th {\n",
       "        vertical-align: top;\n",
       "    }\n",
       "\n",
       "    .dataframe thead th {\n",
       "        text-align: right;\n",
       "    }\n",
       "</style>\n",
       "<table border=\"1\" class=\"dataframe\">\n",
       "  <thead>\n",
       "    <tr style=\"text-align: right;\">\n",
       "      <th></th>\n",
       "      <th>p</th>\n",
       "      <th>x</th>\n",
       "      <th>s</th>\n",
       "      <th>n</th>\n",
       "      <th>t</th>\n",
       "      <th>p.1</th>\n",
       "      <th>f</th>\n",
       "      <th>c</th>\n",
       "      <th>n.1</th>\n",
       "      <th>k</th>\n",
       "      <th>e</th>\n",
       "      <th>e.1</th>\n",
       "      <th>s.1</th>\n",
       "      <th>s.2</th>\n",
       "      <th>w</th>\n",
       "      <th>w.1</th>\n",
       "      <th>p.2</th>\n",
       "      <th>w.2</th>\n",
       "      <th>o</th>\n",
       "      <th>p.3</th>\n",
       "      <th>k.1</th>\n",
       "      <th>s.3</th>\n",
       "      <th>u</th>\n",
       "    </tr>\n",
       "  </thead>\n",
       "  <tbody>\n",
       "    <tr>\n",
       "      <th>0</th>\n",
       "      <td>e</td>\n",
       "      <td>x</td>\n",
       "      <td>s</td>\n",
       "      <td>y</td>\n",
       "      <td>t</td>\n",
       "      <td>a</td>\n",
       "      <td>f</td>\n",
       "      <td>c</td>\n",
       "      <td>b</td>\n",
       "      <td>k</td>\n",
       "      <td>e</td>\n",
       "      <td>c</td>\n",
       "      <td>s</td>\n",
       "      <td>s</td>\n",
       "      <td>w</td>\n",
       "      <td>w</td>\n",
       "      <td>p</td>\n",
       "      <td>w</td>\n",
       "      <td>o</td>\n",
       "      <td>p</td>\n",
       "      <td>n</td>\n",
       "      <td>n</td>\n",
       "      <td>g</td>\n",
       "    </tr>\n",
       "    <tr>\n",
       "      <th>1</th>\n",
       "      <td>e</td>\n",
       "      <td>b</td>\n",
       "      <td>s</td>\n",
       "      <td>w</td>\n",
       "      <td>t</td>\n",
       "      <td>l</td>\n",
       "      <td>f</td>\n",
       "      <td>c</td>\n",
       "      <td>b</td>\n",
       "      <td>n</td>\n",
       "      <td>e</td>\n",
       "      <td>c</td>\n",
       "      <td>s</td>\n",
       "      <td>s</td>\n",
       "      <td>w</td>\n",
       "      <td>w</td>\n",
       "      <td>p</td>\n",
       "      <td>w</td>\n",
       "      <td>o</td>\n",
       "      <td>p</td>\n",
       "      <td>n</td>\n",
       "      <td>n</td>\n",
       "      <td>m</td>\n",
       "    </tr>\n",
       "    <tr>\n",
       "      <th>2</th>\n",
       "      <td>p</td>\n",
       "      <td>x</td>\n",
       "      <td>y</td>\n",
       "      <td>w</td>\n",
       "      <td>t</td>\n",
       "      <td>p</td>\n",
       "      <td>f</td>\n",
       "      <td>c</td>\n",
       "      <td>n</td>\n",
       "      <td>n</td>\n",
       "      <td>e</td>\n",
       "      <td>e</td>\n",
       "      <td>s</td>\n",
       "      <td>s</td>\n",
       "      <td>w</td>\n",
       "      <td>w</td>\n",
       "      <td>p</td>\n",
       "      <td>w</td>\n",
       "      <td>o</td>\n",
       "      <td>p</td>\n",
       "      <td>k</td>\n",
       "      <td>s</td>\n",
       "      <td>u</td>\n",
       "    </tr>\n",
       "    <tr>\n",
       "      <th>3</th>\n",
       "      <td>e</td>\n",
       "      <td>x</td>\n",
       "      <td>s</td>\n",
       "      <td>g</td>\n",
       "      <td>f</td>\n",
       "      <td>n</td>\n",
       "      <td>f</td>\n",
       "      <td>w</td>\n",
       "      <td>b</td>\n",
       "      <td>k</td>\n",
       "      <td>t</td>\n",
       "      <td>e</td>\n",
       "      <td>s</td>\n",
       "      <td>s</td>\n",
       "      <td>w</td>\n",
       "      <td>w</td>\n",
       "      <td>p</td>\n",
       "      <td>w</td>\n",
       "      <td>o</td>\n",
       "      <td>e</td>\n",
       "      <td>n</td>\n",
       "      <td>a</td>\n",
       "      <td>g</td>\n",
       "    </tr>\n",
       "    <tr>\n",
       "      <th>4</th>\n",
       "      <td>e</td>\n",
       "      <td>x</td>\n",
       "      <td>y</td>\n",
       "      <td>y</td>\n",
       "      <td>t</td>\n",
       "      <td>a</td>\n",
       "      <td>f</td>\n",
       "      <td>c</td>\n",
       "      <td>b</td>\n",
       "      <td>n</td>\n",
       "      <td>e</td>\n",
       "      <td>c</td>\n",
       "      <td>s</td>\n",
       "      <td>s</td>\n",
       "      <td>w</td>\n",
       "      <td>w</td>\n",
       "      <td>p</td>\n",
       "      <td>w</td>\n",
       "      <td>o</td>\n",
       "      <td>p</td>\n",
       "      <td>k</td>\n",
       "      <td>n</td>\n",
       "      <td>g</td>\n",
       "    </tr>\n",
       "    <tr>\n",
       "      <th>...</th>\n",
       "      <td>...</td>\n",
       "      <td>...</td>\n",
       "      <td>...</td>\n",
       "      <td>...</td>\n",
       "      <td>...</td>\n",
       "      <td>...</td>\n",
       "      <td>...</td>\n",
       "      <td>...</td>\n",
       "      <td>...</td>\n",
       "      <td>...</td>\n",
       "      <td>...</td>\n",
       "      <td>...</td>\n",
       "      <td>...</td>\n",
       "      <td>...</td>\n",
       "      <td>...</td>\n",
       "      <td>...</td>\n",
       "      <td>...</td>\n",
       "      <td>...</td>\n",
       "      <td>...</td>\n",
       "      <td>...</td>\n",
       "      <td>...</td>\n",
       "      <td>...</td>\n",
       "      <td>...</td>\n",
       "    </tr>\n",
       "    <tr>\n",
       "      <th>8118</th>\n",
       "      <td>e</td>\n",
       "      <td>k</td>\n",
       "      <td>s</td>\n",
       "      <td>n</td>\n",
       "      <td>f</td>\n",
       "      <td>n</td>\n",
       "      <td>a</td>\n",
       "      <td>c</td>\n",
       "      <td>b</td>\n",
       "      <td>y</td>\n",
       "      <td>e</td>\n",
       "      <td>?</td>\n",
       "      <td>s</td>\n",
       "      <td>s</td>\n",
       "      <td>o</td>\n",
       "      <td>o</td>\n",
       "      <td>p</td>\n",
       "      <td>o</td>\n",
       "      <td>o</td>\n",
       "      <td>p</td>\n",
       "      <td>b</td>\n",
       "      <td>c</td>\n",
       "      <td>l</td>\n",
       "    </tr>\n",
       "    <tr>\n",
       "      <th>8119</th>\n",
       "      <td>e</td>\n",
       "      <td>x</td>\n",
       "      <td>s</td>\n",
       "      <td>n</td>\n",
       "      <td>f</td>\n",
       "      <td>n</td>\n",
       "      <td>a</td>\n",
       "      <td>c</td>\n",
       "      <td>b</td>\n",
       "      <td>y</td>\n",
       "      <td>e</td>\n",
       "      <td>?</td>\n",
       "      <td>s</td>\n",
       "      <td>s</td>\n",
       "      <td>o</td>\n",
       "      <td>o</td>\n",
       "      <td>p</td>\n",
       "      <td>n</td>\n",
       "      <td>o</td>\n",
       "      <td>p</td>\n",
       "      <td>b</td>\n",
       "      <td>v</td>\n",
       "      <td>l</td>\n",
       "    </tr>\n",
       "    <tr>\n",
       "      <th>8120</th>\n",
       "      <td>e</td>\n",
       "      <td>f</td>\n",
       "      <td>s</td>\n",
       "      <td>n</td>\n",
       "      <td>f</td>\n",
       "      <td>n</td>\n",
       "      <td>a</td>\n",
       "      <td>c</td>\n",
       "      <td>b</td>\n",
       "      <td>n</td>\n",
       "      <td>e</td>\n",
       "      <td>?</td>\n",
       "      <td>s</td>\n",
       "      <td>s</td>\n",
       "      <td>o</td>\n",
       "      <td>o</td>\n",
       "      <td>p</td>\n",
       "      <td>o</td>\n",
       "      <td>o</td>\n",
       "      <td>p</td>\n",
       "      <td>b</td>\n",
       "      <td>c</td>\n",
       "      <td>l</td>\n",
       "    </tr>\n",
       "    <tr>\n",
       "      <th>8121</th>\n",
       "      <td>p</td>\n",
       "      <td>k</td>\n",
       "      <td>y</td>\n",
       "      <td>n</td>\n",
       "      <td>f</td>\n",
       "      <td>y</td>\n",
       "      <td>f</td>\n",
       "      <td>c</td>\n",
       "      <td>n</td>\n",
       "      <td>b</td>\n",
       "      <td>t</td>\n",
       "      <td>?</td>\n",
       "      <td>s</td>\n",
       "      <td>k</td>\n",
       "      <td>w</td>\n",
       "      <td>w</td>\n",
       "      <td>p</td>\n",
       "      <td>w</td>\n",
       "      <td>o</td>\n",
       "      <td>e</td>\n",
       "      <td>w</td>\n",
       "      <td>v</td>\n",
       "      <td>l</td>\n",
       "    </tr>\n",
       "    <tr>\n",
       "      <th>8122</th>\n",
       "      <td>e</td>\n",
       "      <td>x</td>\n",
       "      <td>s</td>\n",
       "      <td>n</td>\n",
       "      <td>f</td>\n",
       "      <td>n</td>\n",
       "      <td>a</td>\n",
       "      <td>c</td>\n",
       "      <td>b</td>\n",
       "      <td>y</td>\n",
       "      <td>e</td>\n",
       "      <td>?</td>\n",
       "      <td>s</td>\n",
       "      <td>s</td>\n",
       "      <td>o</td>\n",
       "      <td>o</td>\n",
       "      <td>p</td>\n",
       "      <td>o</td>\n",
       "      <td>o</td>\n",
       "      <td>p</td>\n",
       "      <td>o</td>\n",
       "      <td>c</td>\n",
       "      <td>l</td>\n",
       "    </tr>\n",
       "  </tbody>\n",
       "</table>\n",
       "<p>8123 rows × 23 columns</p>\n",
       "</div>"
      ],
      "text/plain": [
       "      p  x  s  n  t p.1  f  c n.1  k  e e.1 s.1 s.2  w w.1 p.2 w.2  o p.3 k.1  \\\n",
       "0     e  x  s  y  t   a  f  c   b  k  e   c   s   s  w   w   p   w  o   p   n   \n",
       "1     e  b  s  w  t   l  f  c   b  n  e   c   s   s  w   w   p   w  o   p   n   \n",
       "2     p  x  y  w  t   p  f  c   n  n  e   e   s   s  w   w   p   w  o   p   k   \n",
       "3     e  x  s  g  f   n  f  w   b  k  t   e   s   s  w   w   p   w  o   e   n   \n",
       "4     e  x  y  y  t   a  f  c   b  n  e   c   s   s  w   w   p   w  o   p   k   \n",
       "...  .. .. .. .. ..  .. .. ..  .. .. ..  ..  ..  .. ..  ..  ..  .. ..  ..  ..   \n",
       "8118  e  k  s  n  f   n  a  c   b  y  e   ?   s   s  o   o   p   o  o   p   b   \n",
       "8119  e  x  s  n  f   n  a  c   b  y  e   ?   s   s  o   o   p   n  o   p   b   \n",
       "8120  e  f  s  n  f   n  a  c   b  n  e   ?   s   s  o   o   p   o  o   p   b   \n",
       "8121  p  k  y  n  f   y  f  c   n  b  t   ?   s   k  w   w   p   w  o   e   w   \n",
       "8122  e  x  s  n  f   n  a  c   b  y  e   ?   s   s  o   o   p   o  o   p   o   \n",
       "\n",
       "     s.3  u  \n",
       "0      n  g  \n",
       "1      n  m  \n",
       "2      s  u  \n",
       "3      a  g  \n",
       "4      n  g  \n",
       "...   .. ..  \n",
       "8118   c  l  \n",
       "8119   v  l  \n",
       "8120   c  l  \n",
       "8121   v  l  \n",
       "8122   c  l  \n",
       "\n",
       "[8123 rows x 23 columns]"
      ]
     },
     "execution_count": 18,
     "metadata": {},
     "output_type": "execute_result"
    }
   ],
   "source": [
    "data = pd.read_csv(r\"C:\\Users\\Pragya\\Downloads\\mushroom\\agaricus-lepiota.data\",delimiter=\",\")\n",
    "data"
   ]
  },
  {
   "cell_type": "code",
   "execution_count": null,
   "id": "45c25ee0-f4bd-4b11-8fa8-59cbb5fa4afa",
   "metadata": {},
   "outputs": [],
   "source": []
  },
  {
   "cell_type": "code",
   "execution_count": null,
   "id": "b02cdde4-41de-425a-90f3-4b8df321dc11",
   "metadata": {},
   "outputs": [],
   "source": []
  },
  {
   "cell_type": "markdown",
   "id": "d0ed1d2d-467a-4f6c-acc0-704be724801f",
   "metadata": {},
   "source": [
    "# EDA"
   ]
  },
  {
   "cell_type": "code",
   "execution_count": null,
   "id": "37fc8d1d-60e8-4b35-ada7-c0ac3e09ccb2",
   "metadata": {},
   "outputs": [],
   "source": []
  },
  {
   "cell_type": "markdown",
   "id": "c8057e1c-cd83-4dd1-b774-324ca5365617",
   "metadata": {},
   "source": [
    "**1. HEAD**"
   ]
  },
  {
   "cell_type": "code",
   "execution_count": 9,
   "id": "d9ce301a-fa79-4ca5-86dd-9c678f505198",
   "metadata": {},
   "outputs": [
    {
     "data": {
      "text/html": [
       "<div>\n",
       "<style scoped>\n",
       "    .dataframe tbody tr th:only-of-type {\n",
       "        vertical-align: middle;\n",
       "    }\n",
       "\n",
       "    .dataframe tbody tr th {\n",
       "        vertical-align: top;\n",
       "    }\n",
       "\n",
       "    .dataframe thead th {\n",
       "        text-align: right;\n",
       "    }\n",
       "</style>\n",
       "<table border=\"1\" class=\"dataframe\">\n",
       "  <thead>\n",
       "    <tr style=\"text-align: right;\">\n",
       "      <th></th>\n",
       "      <th>p</th>\n",
       "      <th>x</th>\n",
       "      <th>s</th>\n",
       "      <th>n</th>\n",
       "      <th>t</th>\n",
       "      <th>p.1</th>\n",
       "      <th>f</th>\n",
       "      <th>c</th>\n",
       "      <th>n.1</th>\n",
       "      <th>k</th>\n",
       "      <th>e</th>\n",
       "      <th>e.1</th>\n",
       "      <th>s.1</th>\n",
       "      <th>s.2</th>\n",
       "      <th>w</th>\n",
       "      <th>w.1</th>\n",
       "      <th>p.2</th>\n",
       "      <th>w.2</th>\n",
       "      <th>o</th>\n",
       "      <th>p.3</th>\n",
       "      <th>k.1</th>\n",
       "      <th>s.3</th>\n",
       "      <th>u</th>\n",
       "    </tr>\n",
       "  </thead>\n",
       "  <tbody>\n",
       "    <tr>\n",
       "      <th>0</th>\n",
       "      <td>e</td>\n",
       "      <td>x</td>\n",
       "      <td>s</td>\n",
       "      <td>y</td>\n",
       "      <td>t</td>\n",
       "      <td>a</td>\n",
       "      <td>f</td>\n",
       "      <td>c</td>\n",
       "      <td>b</td>\n",
       "      <td>k</td>\n",
       "      <td>e</td>\n",
       "      <td>c</td>\n",
       "      <td>s</td>\n",
       "      <td>s</td>\n",
       "      <td>w</td>\n",
       "      <td>w</td>\n",
       "      <td>p</td>\n",
       "      <td>w</td>\n",
       "      <td>o</td>\n",
       "      <td>p</td>\n",
       "      <td>n</td>\n",
       "      <td>n</td>\n",
       "      <td>g</td>\n",
       "    </tr>\n",
       "    <tr>\n",
       "      <th>1</th>\n",
       "      <td>e</td>\n",
       "      <td>b</td>\n",
       "      <td>s</td>\n",
       "      <td>w</td>\n",
       "      <td>t</td>\n",
       "      <td>l</td>\n",
       "      <td>f</td>\n",
       "      <td>c</td>\n",
       "      <td>b</td>\n",
       "      <td>n</td>\n",
       "      <td>e</td>\n",
       "      <td>c</td>\n",
       "      <td>s</td>\n",
       "      <td>s</td>\n",
       "      <td>w</td>\n",
       "      <td>w</td>\n",
       "      <td>p</td>\n",
       "      <td>w</td>\n",
       "      <td>o</td>\n",
       "      <td>p</td>\n",
       "      <td>n</td>\n",
       "      <td>n</td>\n",
       "      <td>m</td>\n",
       "    </tr>\n",
       "    <tr>\n",
       "      <th>2</th>\n",
       "      <td>p</td>\n",
       "      <td>x</td>\n",
       "      <td>y</td>\n",
       "      <td>w</td>\n",
       "      <td>t</td>\n",
       "      <td>p</td>\n",
       "      <td>f</td>\n",
       "      <td>c</td>\n",
       "      <td>n</td>\n",
       "      <td>n</td>\n",
       "      <td>e</td>\n",
       "      <td>e</td>\n",
       "      <td>s</td>\n",
       "      <td>s</td>\n",
       "      <td>w</td>\n",
       "      <td>w</td>\n",
       "      <td>p</td>\n",
       "      <td>w</td>\n",
       "      <td>o</td>\n",
       "      <td>p</td>\n",
       "      <td>k</td>\n",
       "      <td>s</td>\n",
       "      <td>u</td>\n",
       "    </tr>\n",
       "    <tr>\n",
       "      <th>3</th>\n",
       "      <td>e</td>\n",
       "      <td>x</td>\n",
       "      <td>s</td>\n",
       "      <td>g</td>\n",
       "      <td>f</td>\n",
       "      <td>n</td>\n",
       "      <td>f</td>\n",
       "      <td>w</td>\n",
       "      <td>b</td>\n",
       "      <td>k</td>\n",
       "      <td>t</td>\n",
       "      <td>e</td>\n",
       "      <td>s</td>\n",
       "      <td>s</td>\n",
       "      <td>w</td>\n",
       "      <td>w</td>\n",
       "      <td>p</td>\n",
       "      <td>w</td>\n",
       "      <td>o</td>\n",
       "      <td>e</td>\n",
       "      <td>n</td>\n",
       "      <td>a</td>\n",
       "      <td>g</td>\n",
       "    </tr>\n",
       "    <tr>\n",
       "      <th>4</th>\n",
       "      <td>e</td>\n",
       "      <td>x</td>\n",
       "      <td>y</td>\n",
       "      <td>y</td>\n",
       "      <td>t</td>\n",
       "      <td>a</td>\n",
       "      <td>f</td>\n",
       "      <td>c</td>\n",
       "      <td>b</td>\n",
       "      <td>n</td>\n",
       "      <td>e</td>\n",
       "      <td>c</td>\n",
       "      <td>s</td>\n",
       "      <td>s</td>\n",
       "      <td>w</td>\n",
       "      <td>w</td>\n",
       "      <td>p</td>\n",
       "      <td>w</td>\n",
       "      <td>o</td>\n",
       "      <td>p</td>\n",
       "      <td>k</td>\n",
       "      <td>n</td>\n",
       "      <td>g</td>\n",
       "    </tr>\n",
       "  </tbody>\n",
       "</table>\n",
       "</div>"
      ],
      "text/plain": [
       "   p  x  s  n  t p.1  f  c n.1  k  e e.1 s.1 s.2  w w.1 p.2 w.2  o p.3 k.1  \\\n",
       "0  e  x  s  y  t   a  f  c   b  k  e   c   s   s  w   w   p   w  o   p   n   \n",
       "1  e  b  s  w  t   l  f  c   b  n  e   c   s   s  w   w   p   w  o   p   n   \n",
       "2  p  x  y  w  t   p  f  c   n  n  e   e   s   s  w   w   p   w  o   p   k   \n",
       "3  e  x  s  g  f   n  f  w   b  k  t   e   s   s  w   w   p   w  o   e   n   \n",
       "4  e  x  y  y  t   a  f  c   b  n  e   c   s   s  w   w   p   w  o   p   k   \n",
       "\n",
       "  s.3  u  \n",
       "0   n  g  \n",
       "1   n  m  \n",
       "2   s  u  \n",
       "3   a  g  \n",
       "4   n  g  "
      ]
     },
     "execution_count": 9,
     "metadata": {},
     "output_type": "execute_result"
    }
   ],
   "source": [
    "data.head()"
   ]
  },
  {
   "cell_type": "code",
   "execution_count": null,
   "id": "e3637a21-e867-4ffb-81d5-fca960eb76a4",
   "metadata": {},
   "outputs": [],
   "source": []
  },
  {
   "cell_type": "code",
   "execution_count": null,
   "id": "ead61383-86da-4dec-95e7-ae319395a4e9",
   "metadata": {},
   "outputs": [],
   "source": []
  },
  {
   "cell_type": "markdown",
   "id": "236fb59b-66ae-41e1-9d45-7d3c0af741d2",
   "metadata": {},
   "source": [
    "**2. SHAPE**"
   ]
  },
  {
   "cell_type": "code",
   "execution_count": 8,
   "id": "c99ba00d-062e-47c3-880e-2d1947b824ae",
   "metadata": {},
   "outputs": [
    {
     "data": {
      "text/plain": [
       "(8123, 23)"
      ]
     },
     "execution_count": 8,
     "metadata": {},
     "output_type": "execute_result"
    }
   ],
   "source": [
    "data.shape"
   ]
  },
  {
   "cell_type": "code",
   "execution_count": null,
   "id": "ce32b221-a747-4f35-b646-33aab0db21a0",
   "metadata": {},
   "outputs": [],
   "source": []
  },
  {
   "cell_type": "code",
   "execution_count": null,
   "id": "c816b0b5-df58-4423-a752-beeab309ba75",
   "metadata": {},
   "outputs": [],
   "source": []
  },
  {
   "cell_type": "markdown",
   "id": "47c150af-409a-4460-bf62-59afe1102f00",
   "metadata": {},
   "source": [
    "**3. COLUMNS**"
   ]
  },
  {
   "cell_type": "code",
   "execution_count": 10,
   "id": "ff34dd59-5611-4955-8f66-4f71e77d9822",
   "metadata": {},
   "outputs": [
    {
     "data": {
      "text/plain": [
       "Index(['p', 'x', 's', 'n', 't', 'p.1', 'f', 'c', 'n.1', 'k', 'e', 'e.1', 's.1',\n",
       "       's.2', 'w', 'w.1', 'p.2', 'w.2', 'o', 'p.3', 'k.1', 's.3', 'u'],\n",
       "      dtype='object')"
      ]
     },
     "execution_count": 10,
     "metadata": {},
     "output_type": "execute_result"
    }
   ],
   "source": [
    "data.columns"
   ]
  },
  {
   "cell_type": "code",
   "execution_count": null,
   "id": "169fb6c5-f23e-47e2-a3c9-41a193457451",
   "metadata": {},
   "outputs": [],
   "source": []
  },
  {
   "cell_type": "code",
   "execution_count": null,
   "id": "0387737f-7f3a-4bad-b364-772c3c48e035",
   "metadata": {},
   "outputs": [],
   "source": []
  },
  {
   "cell_type": "markdown",
   "id": "53d1b409-8d02-4e96-a340-747d57d9bbae",
   "metadata": {},
   "source": [
    "**4. DATA TYPE**"
   ]
  },
  {
   "cell_type": "code",
   "execution_count": 11,
   "id": "1ef9d460-e121-4366-9ed1-97f8788c486d",
   "metadata": {},
   "outputs": [
    {
     "data": {
      "text/plain": [
       "p      object\n",
       "x      object\n",
       "s      object\n",
       "n      object\n",
       "t      object\n",
       "p.1    object\n",
       "f      object\n",
       "c      object\n",
       "n.1    object\n",
       "k      object\n",
       "e      object\n",
       "e.1    object\n",
       "s.1    object\n",
       "s.2    object\n",
       "w      object\n",
       "w.1    object\n",
       "p.2    object\n",
       "w.2    object\n",
       "o      object\n",
       "p.3    object\n",
       "k.1    object\n",
       "s.3    object\n",
       "u      object\n",
       "dtype: object"
      ]
     },
     "execution_count": 11,
     "metadata": {},
     "output_type": "execute_result"
    }
   ],
   "source": [
    "data.dtypes"
   ]
  },
  {
   "cell_type": "code",
   "execution_count": null,
   "id": "86022757-8632-4e2d-8a92-83c2ccfb3e7d",
   "metadata": {},
   "outputs": [],
   "source": []
  },
  {
   "cell_type": "code",
   "execution_count": null,
   "id": "db6e190a-c798-4a5c-908e-93c9486af41f",
   "metadata": {},
   "outputs": [],
   "source": []
  },
  {
   "cell_type": "markdown",
   "id": "d20b608b-4763-43a8-8078-790a4f845831",
   "metadata": {},
   "source": [
    "**5. missing value**"
   ]
  },
  {
   "cell_type": "code",
   "execution_count": 20,
   "id": "3a3cf112-fd58-46bf-b5a8-e3ce5642389a",
   "metadata": {},
   "outputs": [
    {
     "data": {
      "text/plain": [
       "p         0\n",
       "x         0\n",
       "s         0\n",
       "n         0\n",
       "t         0\n",
       "p.1       0\n",
       "f         0\n",
       "c         0\n",
       "n.1       0\n",
       "k         0\n",
       "e         0\n",
       "e.1    2480\n",
       "s.1       0\n",
       "s.2       0\n",
       "w         0\n",
       "w.1       0\n",
       "p.2       0\n",
       "w.2       0\n",
       "o         0\n",
       "p.3       0\n",
       "k.1       0\n",
       "s.3       0\n",
       "u         0\n",
       "dtype: int64"
      ]
     },
     "execution_count": 20,
     "metadata": {},
     "output_type": "execute_result"
    }
   ],
   "source": [
    "data.isnull().sum()"
   ]
  },
  {
   "cell_type": "code",
   "execution_count": null,
   "id": "fd392031-8819-4d66-8c08-04b5b10f78df",
   "metadata": {},
   "outputs": [],
   "source": []
  },
  {
   "cell_type": "code",
   "execution_count": null,
   "id": "4d3546be-7d3e-45ef-8b6e-2d75e30eaab3",
   "metadata": {},
   "outputs": [],
   "source": []
  },
  {
   "cell_type": "markdown",
   "id": "12112f91-a1e4-4521-aba0-88d52366207a",
   "metadata": {},
   "source": [
    "**6. DUPLICATED VALUES**"
   ]
  },
  {
   "cell_type": "code",
   "execution_count": 13,
   "id": "ed08aa66-8175-454f-ba23-9d6c60b8c482",
   "metadata": {},
   "outputs": [
    {
     "data": {
      "text/plain": [
       "0"
      ]
     },
     "execution_count": 13,
     "metadata": {},
     "output_type": "execute_result"
    }
   ],
   "source": [
    "data.duplicated().sum()"
   ]
  },
  {
   "cell_type": "code",
   "execution_count": null,
   "id": "8799fae8-3d6f-468e-a569-4ab8b6a8e23a",
   "metadata": {},
   "outputs": [],
   "source": []
  },
  {
   "cell_type": "code",
   "execution_count": null,
   "id": "c2a0679e-b3a6-42a4-9dd7-83994327d5e8",
   "metadata": {},
   "outputs": [],
   "source": []
  },
  {
   "cell_type": "markdown",
   "id": "387e7ca7-1d13-4056-8774-58d6643b5c49",
   "metadata": {},
   "source": [
    "**7. DESCRIPTIVE STATISTICS**"
   ]
  },
  {
   "cell_type": "code",
   "execution_count": 14,
   "id": "4179da48-58d6-41bb-aae4-e2a4a527dee3",
   "metadata": {},
   "outputs": [
    {
     "data": {
      "text/html": [
       "<div>\n",
       "<style scoped>\n",
       "    .dataframe tbody tr th:only-of-type {\n",
       "        vertical-align: middle;\n",
       "    }\n",
       "\n",
       "    .dataframe tbody tr th {\n",
       "        vertical-align: top;\n",
       "    }\n",
       "\n",
       "    .dataframe thead th {\n",
       "        text-align: right;\n",
       "    }\n",
       "</style>\n",
       "<table border=\"1\" class=\"dataframe\">\n",
       "  <thead>\n",
       "    <tr style=\"text-align: right;\">\n",
       "      <th></th>\n",
       "      <th>p</th>\n",
       "      <th>x</th>\n",
       "      <th>s</th>\n",
       "      <th>n</th>\n",
       "      <th>t</th>\n",
       "      <th>p.1</th>\n",
       "      <th>f</th>\n",
       "      <th>c</th>\n",
       "      <th>n.1</th>\n",
       "      <th>k</th>\n",
       "      <th>e</th>\n",
       "      <th>e.1</th>\n",
       "      <th>s.1</th>\n",
       "      <th>s.2</th>\n",
       "      <th>w</th>\n",
       "      <th>w.1</th>\n",
       "      <th>p.2</th>\n",
       "      <th>w.2</th>\n",
       "      <th>o</th>\n",
       "      <th>p.3</th>\n",
       "      <th>k.1</th>\n",
       "      <th>s.3</th>\n",
       "      <th>u</th>\n",
       "    </tr>\n",
       "  </thead>\n",
       "  <tbody>\n",
       "    <tr>\n",
       "      <th>count</th>\n",
       "      <td>8123</td>\n",
       "      <td>8123</td>\n",
       "      <td>8123</td>\n",
       "      <td>8123</td>\n",
       "      <td>8123</td>\n",
       "      <td>8123</td>\n",
       "      <td>8123</td>\n",
       "      <td>8123</td>\n",
       "      <td>8123</td>\n",
       "      <td>8123</td>\n",
       "      <td>8123</td>\n",
       "      <td>8123</td>\n",
       "      <td>8123</td>\n",
       "      <td>8123</td>\n",
       "      <td>8123</td>\n",
       "      <td>8123</td>\n",
       "      <td>8123</td>\n",
       "      <td>8123</td>\n",
       "      <td>8123</td>\n",
       "      <td>8123</td>\n",
       "      <td>8123</td>\n",
       "      <td>8123</td>\n",
       "      <td>8123</td>\n",
       "    </tr>\n",
       "    <tr>\n",
       "      <th>unique</th>\n",
       "      <td>2</td>\n",
       "      <td>6</td>\n",
       "      <td>4</td>\n",
       "      <td>10</td>\n",
       "      <td>2</td>\n",
       "      <td>9</td>\n",
       "      <td>2</td>\n",
       "      <td>2</td>\n",
       "      <td>2</td>\n",
       "      <td>12</td>\n",
       "      <td>2</td>\n",
       "      <td>5</td>\n",
       "      <td>4</td>\n",
       "      <td>4</td>\n",
       "      <td>9</td>\n",
       "      <td>9</td>\n",
       "      <td>1</td>\n",
       "      <td>4</td>\n",
       "      <td>3</td>\n",
       "      <td>5</td>\n",
       "      <td>9</td>\n",
       "      <td>6</td>\n",
       "      <td>7</td>\n",
       "    </tr>\n",
       "    <tr>\n",
       "      <th>top</th>\n",
       "      <td>e</td>\n",
       "      <td>x</td>\n",
       "      <td>y</td>\n",
       "      <td>n</td>\n",
       "      <td>f</td>\n",
       "      <td>n</td>\n",
       "      <td>f</td>\n",
       "      <td>c</td>\n",
       "      <td>b</td>\n",
       "      <td>b</td>\n",
       "      <td>t</td>\n",
       "      <td>b</td>\n",
       "      <td>s</td>\n",
       "      <td>s</td>\n",
       "      <td>w</td>\n",
       "      <td>w</td>\n",
       "      <td>p</td>\n",
       "      <td>w</td>\n",
       "      <td>o</td>\n",
       "      <td>p</td>\n",
       "      <td>w</td>\n",
       "      <td>v</td>\n",
       "      <td>d</td>\n",
       "    </tr>\n",
       "    <tr>\n",
       "      <th>freq</th>\n",
       "      <td>4208</td>\n",
       "      <td>3655</td>\n",
       "      <td>3244</td>\n",
       "      <td>2283</td>\n",
       "      <td>4748</td>\n",
       "      <td>3528</td>\n",
       "      <td>7913</td>\n",
       "      <td>6811</td>\n",
       "      <td>5612</td>\n",
       "      <td>1728</td>\n",
       "      <td>4608</td>\n",
       "      <td>3776</td>\n",
       "      <td>5175</td>\n",
       "      <td>4935</td>\n",
       "      <td>4463</td>\n",
       "      <td>4383</td>\n",
       "      <td>8123</td>\n",
       "      <td>7923</td>\n",
       "      <td>7487</td>\n",
       "      <td>3967</td>\n",
       "      <td>2388</td>\n",
       "      <td>4040</td>\n",
       "      <td>3148</td>\n",
       "    </tr>\n",
       "  </tbody>\n",
       "</table>\n",
       "</div>"
      ],
      "text/plain": [
       "           p     x     s     n     t   p.1     f     c   n.1     k     e  \\\n",
       "count   8123  8123  8123  8123  8123  8123  8123  8123  8123  8123  8123   \n",
       "unique     2     6     4    10     2     9     2     2     2    12     2   \n",
       "top        e     x     y     n     f     n     f     c     b     b     t   \n",
       "freq    4208  3655  3244  2283  4748  3528  7913  6811  5612  1728  4608   \n",
       "\n",
       "         e.1   s.1   s.2     w   w.1   p.2   w.2     o   p.3   k.1   s.3     u  \n",
       "count   8123  8123  8123  8123  8123  8123  8123  8123  8123  8123  8123  8123  \n",
       "unique     5     4     4     9     9     1     4     3     5     9     6     7  \n",
       "top        b     s     s     w     w     p     w     o     p     w     v     d  \n",
       "freq    3776  5175  4935  4463  4383  8123  7923  7487  3967  2388  4040  3148  "
      ]
     },
     "execution_count": 14,
     "metadata": {},
     "output_type": "execute_result"
    }
   ],
   "source": [
    "data.describe()"
   ]
  },
  {
   "cell_type": "code",
   "execution_count": null,
   "id": "0baa0efb-49e8-4109-b01a-b82ed5632f13",
   "metadata": {},
   "outputs": [],
   "source": []
  },
  {
   "cell_type": "code",
   "execution_count": null,
   "id": "0c55a7d8-43cd-40c3-bbee-31caa34f046d",
   "metadata": {},
   "outputs": [],
   "source": []
  },
  {
   "cell_type": "markdown",
   "id": "454f14e7-7954-490a-a451-f48cab7bcc6f",
   "metadata": {},
   "source": [
    "**8. INFO**"
   ]
  },
  {
   "cell_type": "code",
   "execution_count": 15,
   "id": "fcb7b04f-a087-4bf3-bc82-ca011475d851",
   "metadata": {},
   "outputs": [
    {
     "name": "stdout",
     "output_type": "stream",
     "text": [
      "<class 'pandas.core.frame.DataFrame'>\n",
      "RangeIndex: 8123 entries, 0 to 8122\n",
      "Data columns (total 23 columns):\n",
      " #   Column  Non-Null Count  Dtype \n",
      "---  ------  --------------  ----- \n",
      " 0   p       8123 non-null   object\n",
      " 1   x       8123 non-null   object\n",
      " 2   s       8123 non-null   object\n",
      " 3   n       8123 non-null   object\n",
      " 4   t       8123 non-null   object\n",
      " 5   p.1     8123 non-null   object\n",
      " 6   f       8123 non-null   object\n",
      " 7   c       8123 non-null   object\n",
      " 8   n.1     8123 non-null   object\n",
      " 9   k       8123 non-null   object\n",
      " 10  e       8123 non-null   object\n",
      " 11  e.1     8123 non-null   object\n",
      " 12  s.1     8123 non-null   object\n",
      " 13  s.2     8123 non-null   object\n",
      " 14  w       8123 non-null   object\n",
      " 15  w.1     8123 non-null   object\n",
      " 16  p.2     8123 non-null   object\n",
      " 17  w.2     8123 non-null   object\n",
      " 18  o       8123 non-null   object\n",
      " 19  p.3     8123 non-null   object\n",
      " 20  k.1     8123 non-null   object\n",
      " 21  s.3     8123 non-null   object\n",
      " 22  u       8123 non-null   object\n",
      "dtypes: object(23)\n",
      "memory usage: 1.4+ MB\n"
     ]
    }
   ],
   "source": [
    "data.info()"
   ]
  },
  {
   "cell_type": "code",
   "execution_count": null,
   "id": "2e3e3bce-7be9-4993-85a0-aac024c28106",
   "metadata": {},
   "outputs": [],
   "source": []
  },
  {
   "cell_type": "code",
   "execution_count": null,
   "id": "9b3d3246-79d0-4b72-8ad4-210af4f3d487",
   "metadata": {},
   "outputs": [],
   "source": []
  },
  {
   "cell_type": "markdown",
   "id": "fc3d55c3-f70e-4345-9e80-bf92202b9e03",
   "metadata": {},
   "source": [
    "**9. ANAMOLY DETECTION**"
   ]
  },
  {
   "cell_type": "code",
   "execution_count": 16,
   "id": "4954e8cb-9756-48e4-ad13-489d46a797fb",
   "metadata": {},
   "outputs": [
    {
     "name": "stdout",
     "output_type": "stream",
     "text": [
      "{'p': array(['e', 'p'], dtype=object)}\n",
      "{'x': array(['x', 'b', 's', 'f', 'k', 'c'], dtype=object)}\n",
      "{'s': array(['s', 'y', 'f', 'g'], dtype=object)}\n",
      "{'n': array(['y', 'w', 'g', 'n', 'e', 'p', 'b', 'u', 'c', 'r'], dtype=object)}\n",
      "{'t': array(['t', 'f'], dtype=object)}\n",
      "{'p.1': array(['a', 'l', 'p', 'n', 'f', 'c', 'y', 's', 'm'], dtype=object)}\n",
      "{'f': array(['f', 'a'], dtype=object)}\n",
      "{'c': array(['c', 'w'], dtype=object)}\n",
      "{'n.1': array(['b', 'n'], dtype=object)}\n",
      "{'k': array(['k', 'n', 'g', 'p', 'w', 'h', 'u', 'e', 'b', 'r', 'y', 'o'],\n",
      "      dtype=object)}\n",
      "{'e': array(['e', 't'], dtype=object)}\n",
      "{'e.1': array(['c', 'e', 'b', 'r', '?'], dtype=object)}\n",
      "{'s.1': array(['s', 'f', 'k', 'y'], dtype=object)}\n",
      "{'s.2': array(['s', 'f', 'y', 'k'], dtype=object)}\n",
      "{'w': array(['w', 'g', 'p', 'n', 'b', 'e', 'o', 'c', 'y'], dtype=object)}\n",
      "{'w.1': array(['w', 'p', 'g', 'b', 'n', 'e', 'y', 'o', 'c'], dtype=object)}\n",
      "{'p.2': array(['p'], dtype=object)}\n",
      "{'w.2': array(['w', 'n', 'o', 'y'], dtype=object)}\n",
      "{'o': array(['o', 't', 'n'], dtype=object)}\n",
      "{'p.3': array(['p', 'e', 'l', 'f', 'n'], dtype=object)}\n",
      "{'k.1': array(['n', 'k', 'u', 'h', 'w', 'r', 'o', 'y', 'b'], dtype=object)}\n",
      "{'s.3': array(['n', 's', 'a', 'v', 'y', 'c'], dtype=object)}\n",
      "{'u': array(['g', 'm', 'u', 'd', 'p', 'w', 'l'], dtype=object)}\n"
     ]
    }
   ],
   "source": [
    "for i in data.columns:\n",
    "    print({i:data[i].unique()})"
   ]
  },
  {
   "cell_type": "markdown",
   "id": "af713f40-1cf0-4dbb-8535-1b2e9beb1904",
   "metadata": {},
   "source": [
    "ANAMOLY IS DETECTED IN FORM OF \"?\""
   ]
  },
  {
   "cell_type": "code",
   "execution_count": null,
   "id": "7049aba5-e8ba-49fd-a933-5f7ec76797b0",
   "metadata": {},
   "outputs": [],
   "source": []
  },
  {
   "cell_type": "markdown",
   "id": "66d0516c-e2ad-405c-85e3-1fc95db0ec83",
   "metadata": {},
   "source": [
    "**10. REPLACING \"?\"WITH NP.NAN**"
   ]
  },
  {
   "cell_type": "code",
   "execution_count": 19,
   "id": "6920ef4a-7940-4b0d-9967-e04390d6dba2",
   "metadata": {},
   "outputs": [
    {
     "data": {
      "text/plain": [
       "p         0\n",
       "x         0\n",
       "s         0\n",
       "n         0\n",
       "t         0\n",
       "p.1       0\n",
       "f         0\n",
       "c         0\n",
       "n.1       0\n",
       "k         0\n",
       "e         0\n",
       "e.1    2480\n",
       "s.1       0\n",
       "s.2       0\n",
       "w         0\n",
       "w.1       0\n",
       "p.2       0\n",
       "w.2       0\n",
       "o         0\n",
       "p.3       0\n",
       "k.1       0\n",
       "s.3       0\n",
       "u         0\n",
       "dtype: int64"
      ]
     },
     "execution_count": 19,
     "metadata": {},
     "output_type": "execute_result"
    }
   ],
   "source": [
    "data.replace(\"?\",np.nan,inplace=True)\n",
    "data.isnull().sum()"
   ]
  },
  {
   "cell_type": "markdown",
   "id": "d72e1117-eb6c-4907-ae27-1ceb22d4cfab",
   "metadata": {},
   "source": []
  },
  {
   "cell_type": "code",
   "execution_count": null,
   "id": "8f639bae-3cea-4ab4-8ed8-3f313987d360",
   "metadata": {},
   "outputs": [],
   "source": []
  },
  {
   "cell_type": "markdown",
   "id": "27bd16b9-8262-4646-a97f-a0858b180a25",
   "metadata": {},
   "source": [
    "# DATA PREPROCESSING"
   ]
  },
  {
   "cell_type": "code",
   "execution_count": null,
   "id": "7d125cfb-53d6-4c75-b17e-0207cc0ea968",
   "metadata": {},
   "outputs": [],
   "source": []
  },
  {
   "cell_type": "markdown",
   "id": "b87eac48-9774-4b82-899d-a216979f3ed8",
   "metadata": {},
   "source": [
    "**Checking for missing value**"
   ]
  },
  {
   "cell_type": "code",
   "execution_count": 21,
   "id": "b3c7a589-6ecd-4f3c-b101-af09e8fd4971",
   "metadata": {},
   "outputs": [
    {
     "data": {
      "text/plain": [
       "p         0\n",
       "x         0\n",
       "s         0\n",
       "n         0\n",
       "t         0\n",
       "p.1       0\n",
       "f         0\n",
       "c         0\n",
       "n.1       0\n",
       "k         0\n",
       "e         0\n",
       "e.1    2480\n",
       "s.1       0\n",
       "s.2       0\n",
       "w         0\n",
       "w.1       0\n",
       "p.2       0\n",
       "w.2       0\n",
       "o         0\n",
       "p.3       0\n",
       "k.1       0\n",
       "s.3       0\n",
       "u         0\n",
       "dtype: int64"
      ]
     },
     "execution_count": 21,
     "metadata": {},
     "output_type": "execute_result"
    }
   ],
   "source": [
    "data.isnull().sum()"
   ]
  },
  {
   "cell_type": "code",
   "execution_count": null,
   "id": "97518330-3e83-4f13-bd06-bb88e844bff6",
   "metadata": {},
   "outputs": [],
   "source": []
  },
  {
   "cell_type": "code",
   "execution_count": null,
   "id": "21c3ac7d-8a8a-4e1d-b70a-dcb8008350c3",
   "metadata": {},
   "outputs": [],
   "source": []
  },
  {
   "cell_type": "markdown",
   "id": "e204f868-8e7f-4a92-ae94-eac041b9b962",
   "metadata": {},
   "source": [
    "**REPLACING MISSING VALUE WITH MODE**"
   ]
  },
  {
   "cell_type": "code",
   "execution_count": 22,
   "id": "2253238a-9d14-4fc2-b120-27a38cac4404",
   "metadata": {},
   "outputs": [],
   "source": [
    "for x in data.columns:\n",
    "    if data[x].dtype=='object' or data[x].dtype=='bool':      # for categorical\n",
    "        data[x].fillna(data[x].mode()[0],inplace=True)\n",
    "    elif data[x].dtype=='int64' or data[x].dtype=='float64':    # for numerical\n",
    "        data[x].fillna(value = 0,inplace=True)\n"
   ]
  },
  {
   "cell_type": "code",
   "execution_count": null,
   "id": "788ab157-d932-45b3-a0a1-f90848747a47",
   "metadata": {},
   "outputs": [],
   "source": []
  },
  {
   "cell_type": "code",
   "execution_count": null,
   "id": "02e259ae-ee4d-48cb-8fa8-1f77bb135318",
   "metadata": {},
   "outputs": [],
   "source": []
  },
  {
   "cell_type": "markdown",
   "id": "c41a1488-f58d-415a-90f8-6f22a26c381f",
   "metadata": {},
   "source": [
    "**RECHECKING**"
   ]
  },
  {
   "cell_type": "code",
   "execution_count": 23,
   "id": "acdd1167-7815-4721-afaa-7e0989cdf52b",
   "metadata": {},
   "outputs": [
    {
     "data": {
      "text/plain": [
       "p      0\n",
       "x      0\n",
       "s      0\n",
       "n      0\n",
       "t      0\n",
       "p.1    0\n",
       "f      0\n",
       "c      0\n",
       "n.1    0\n",
       "k      0\n",
       "e      0\n",
       "e.1    0\n",
       "s.1    0\n",
       "s.2    0\n",
       "w      0\n",
       "w.1    0\n",
       "p.2    0\n",
       "w.2    0\n",
       "o      0\n",
       "p.3    0\n",
       "k.1    0\n",
       "s.3    0\n",
       "u      0\n",
       "dtype: int64"
      ]
     },
     "execution_count": 23,
     "metadata": {},
     "output_type": "execute_result"
    }
   ],
   "source": [
    "data.isnull().sum()"
   ]
  },
  {
   "cell_type": "code",
   "execution_count": null,
   "id": "2642b44f-1a5b-450b-aa86-17ee2b470bda",
   "metadata": {},
   "outputs": [],
   "source": []
  },
  {
   "cell_type": "code",
   "execution_count": null,
   "id": "dd501c22-90ed-4d64-9564-5d8e88d24608",
   "metadata": {},
   "outputs": [],
   "source": []
  },
  {
   "cell_type": "code",
   "execution_count": null,
   "id": "1394f92b-e85f-4989-9c45-cf62950ef5b2",
   "metadata": {},
   "outputs": [],
   "source": []
  },
  {
   "cell_type": "markdown",
   "id": "b70a903d-9557-4e25-b5bc-e009c65f2ce2",
   "metadata": {},
   "source": [
    "**APPLYING LABELENCODER TO CONVERT CATEGORICAL DATA TO NUMERICAL**"
   ]
  },
  {
   "cell_type": "code",
   "execution_count": 24,
   "id": "06232ffc-4d03-40bc-8372-f01469dfcd94",
   "metadata": {},
   "outputs": [
    {
     "name": "stdout",
     "output_type": "stream",
     "text": [
      "['p', 'x', 's', 'n', 't', 'p.1', 'f', 'c', 'n.1', 'k', 'e', 'e.1', 's.1', 's.2', 'w', 'w.1', 'p.2', 'w.2', 'o', 'p.3', 'k.1', 's.3', 'u']\n"
     ]
    }
   ],
   "source": [
    "colname=[]\n",
    "for x in data.columns:\n",
    "    if data[x].dtype=='object':\n",
    "        colname.append(x)\n",
    "print(colname)\n",
    "\n",
    "from sklearn.preprocessing import LabelEncoder\n",
    " \n",
    "le=LabelEncoder()\n",
    " \n",
    "for x in colname:\n",
    "    data[x]=le.fit_transform(data[x])"
   ]
  },
  {
   "cell_type": "code",
   "execution_count": null,
   "id": "192d0a19-bec3-4ac4-ad19-fd5b00fcb7f3",
   "metadata": {
    "scrolled": true
   },
   "outputs": [],
   "source": []
  },
  {
   "cell_type": "code",
   "execution_count": 26,
   "id": "f856da6c-2faf-40a5-a365-df8033feab5b",
   "metadata": {},
   "outputs": [
    {
     "data": {
      "text/plain": [
       "Index(['p', 'x', 's', 'n', 't', 'p.1', 'f', 'c', 'n.1', 'k', 'e', 'e.1', 's.1',\n",
       "       's.2', 'w', 'w.1', 'p.2', 'w.2', 'o', 'p.3', 'k.1', 's.3', 'u'],\n",
       "      dtype='object')"
      ]
     },
     "execution_count": 26,
     "metadata": {},
     "output_type": "execute_result"
    }
   ],
   "source": [
    "data.columns"
   ]
  },
  {
   "cell_type": "markdown",
   "id": "58ad039c-ef95-444f-88bd-c5a2219e4ab2",
   "metadata": {},
   "source": [
    "**Creating X and Y**"
   ]
  },
  {
   "cell_type": "code",
   "execution_count": 27,
   "id": "80cecbb5-903c-4be7-bdad-0278972fdbcf",
   "metadata": {},
   "outputs": [],
   "source": [
    "X = data.drop(['p'],axis=1)\n",
    "Y = data['p']"
   ]
  },
  {
   "cell_type": "code",
   "execution_count": 28,
   "id": "c77e9655-1f03-406e-88e1-b1ddabb27b50",
   "metadata": {},
   "outputs": [
    {
     "name": "stdout",
     "output_type": "stream",
     "text": [
      "(8123, 22)\n",
      "(8123,)\n"
     ]
    }
   ],
   "source": [
    "print(X.shape)\n",
    "print(Y.shape)"
   ]
  },
  {
   "cell_type": "code",
   "execution_count": null,
   "id": "c7a9e822-6fb5-48fc-9b2d-33ca2ee45d01",
   "metadata": {},
   "outputs": [],
   "source": []
  },
  {
   "cell_type": "code",
   "execution_count": null,
   "id": "e726b977-1a2e-477d-be49-53ec99b1ba40",
   "metadata": {},
   "outputs": [],
   "source": []
  },
  {
   "cell_type": "markdown",
   "id": "2f3936ee-fdfe-451c-96a8-612258e2bf53",
   "metadata": {},
   "source": [
    "**Scaling the data to avoid data discrispencies**"
   ]
  },
  {
   "cell_type": "code",
   "execution_count": 29,
   "id": "6ef393d6-a915-4d75-91dd-34ced1822ae8",
   "metadata": {},
   "outputs": [],
   "source": [
    "from sklearn.preprocessing import StandardScaler\n",
    "scaler = StandardScaler()    \n",
    "scaler.fit(X)                \n",
    "X = scaler.transform(X)       "
   ]
  },
  {
   "cell_type": "code",
   "execution_count": null,
   "id": "21342486-a71f-4b2f-a7ae-91e9cee8272d",
   "metadata": {},
   "outputs": [],
   "source": []
  },
  {
   "cell_type": "code",
   "execution_count": null,
   "id": "e7c683ee-86c8-4823-b044-5d74fd403b90",
   "metadata": {},
   "outputs": [],
   "source": []
  },
  {
   "cell_type": "markdown",
   "id": "317e9a9e-5fc1-413e-a1ac-b5cfb4405489",
   "metadata": {},
   "source": [
    "**Splitting the data into testing and traning part**"
   ]
  },
  {
   "cell_type": "code",
   "execution_count": 30,
   "id": "60983648-873b-435c-93ea-4390c2ed5c61",
   "metadata": {},
   "outputs": [],
   "source": [
    "# split the data into test and train\n",
    "from sklearn.model_selection import train_test_split\n",
    "\n",
    "X_train,X_test,Y_train,Y_test = train_test_split(X,Y,test_size=0.3,random_state = 10) "
   ]
  },
  {
   "cell_type": "code",
   "execution_count": null,
   "id": "bf326a87-e6b5-4160-95e9-8365235eac68",
   "metadata": {},
   "outputs": [],
   "source": []
  },
  {
   "cell_type": "markdown",
   "id": "93ac82a6-2453-4d24-a2b5-42a0952b54d2",
   "metadata": {},
   "source": [
    "**Checking class Distribution**"
   ]
  },
  {
   "cell_type": "code",
   "execution_count": 32,
   "id": "4d430860-d0be-4214-9166-f76f0bc9a66c",
   "metadata": {},
   "outputs": [
    {
     "data": {
      "text/plain": [
       "p\n",
       "0    4208\n",
       "1    3915\n",
       "Name: count, dtype: int64"
      ]
     },
     "execution_count": 32,
     "metadata": {},
     "output_type": "execute_result"
    }
   ],
   "source": [
    "data['p'].value_counts()"
   ]
  },
  {
   "cell_type": "code",
   "execution_count": null,
   "id": "a788cc52-d7a3-4760-9aa4-347886a7e875",
   "metadata": {},
   "outputs": [],
   "source": []
  },
  {
   "cell_type": "code",
   "execution_count": null,
   "id": "29352f6d-30d8-4427-852e-a0ed87c9b9c0",
   "metadata": {},
   "outputs": [],
   "source": []
  },
  {
   "cell_type": "markdown",
   "id": "812199d4-3fea-4eea-a7e9-f8f69038d4e9",
   "metadata": {},
   "source": [
    "# MODEL BUILDING"
   ]
  },
  {
   "cell_type": "code",
   "execution_count": null,
   "id": "000c1676-c351-43ac-a2b7-c15479979821",
   "metadata": {},
   "outputs": [],
   "source": []
  },
  {
   "cell_type": "markdown",
   "id": "017a51a7-7928-42f8-ba73-a4a4ebc6b9c6",
   "metadata": {},
   "source": [
    "# LOGISTIC REGRESSION"
   ]
  },
  {
   "cell_type": "code",
   "execution_count": 34,
   "id": "0d59cf83-90ec-471d-8af0-0438cb34f878",
   "metadata": {},
   "outputs": [
    {
     "name": "stdout",
     "output_type": "stream",
     "text": [
      "[-2.01820241]\n",
      "[[-5.43694955e-03  4.76547515e-01 -1.06419025e-01 -1.65418244e-01\n",
      "  -1.41415008e+00 -6.72521523e-01 -5.50623578e+00  6.64791286e+00\n",
      "  -8.11299931e-01 -5.11466309e-02 -4.65933616e+00 -5.17310791e+00\n",
      "   1.23175294e-01 -2.69846778e-01 -2.90948014e-02  0.00000000e+00\n",
      "   5.64088232e+00  7.36554685e-01  4.26139893e+00 -2.03266062e-01\n",
      "  -1.81048328e+00  3.09752894e-01]]\n"
     ]
    }
   ],
   "source": [
    "from sklearn.linear_model import LogisticRegression\n",
    "# create a model\n",
    "classifier=LogisticRegression(random_state=10)\n",
    "\n",
    "# fitting training data to the model...........(input is X and Y)\n",
    "classifier.fit(X_train,Y_train)\n",
    "\n",
    "# output is equation of liner regression \n",
    "print(classifier.intercept_)   # intercept is beta-not\n",
    "print(classifier.coef_)     # coef is beta-1,beta-2"
   ]
  },
  {
   "cell_type": "code",
   "execution_count": null,
   "id": "676bf1f0-4c75-45db-b803-1167bcf65aa9",
   "metadata": {},
   "outputs": [],
   "source": []
  },
  {
   "cell_type": "markdown",
   "id": "24b4282b-1284-4447-9733-48a7e0d4043a",
   "metadata": {},
   "source": [
    "**Predicting the output on test data**"
   ]
  },
  {
   "cell_type": "code",
   "execution_count": 35,
   "id": "3d937fdb-9a16-406d-a58f-3197959d7220",
   "metadata": {},
   "outputs": [
    {
     "name": "stdout",
     "output_type": "stream",
     "text": [
      "[0 0 1 ... 0 1 1]\n"
     ]
    }
   ],
   "source": [
    "Y_pred=classifier.predict(X_test)\n",
    "print(Y_pred)"
   ]
  },
  {
   "cell_type": "code",
   "execution_count": null,
   "id": "b76ff55e-e931-4589-a5e0-82975c6d6b93",
   "metadata": {},
   "outputs": [],
   "source": []
  },
  {
   "cell_type": "markdown",
   "id": "3e0355e1-8e5e-40be-b854-1ac21c184f22",
   "metadata": {},
   "source": [
    "**Evaluation Phase**"
   ]
  },
  {
   "cell_type": "code",
   "execution_count": 36,
   "id": "33ae76dc-ea7d-4ad4-ac47-ff6e1a6fb494",
   "metadata": {},
   "outputs": [
    {
     "name": "stdout",
     "output_type": "stream",
     "text": [
      "[[1225   48]\n",
      " [  41 1123]]\n",
      "Classification report: \n",
      "              precision    recall  f1-score   support\n",
      "\n",
      "           0       0.97      0.96      0.96      1273\n",
      "           1       0.96      0.96      0.96      1164\n",
      "\n",
      "    accuracy                           0.96      2437\n",
      "   macro avg       0.96      0.96      0.96      2437\n",
      "weighted avg       0.96      0.96      0.96      2437\n",
      "\n",
      "Accuracy of the model:  0.9634796881411571\n"
     ]
    }
   ],
   "source": [
    "from sklearn.metrics import confusion_matrix, accuracy_score, classification_report\n",
    " \n",
    "# confusion matrix\n",
    "cfm=confusion_matrix(Y_test,Y_pred)\n",
    "print(cfm)\n",
    " \n",
    "print(\"Classification report: \")\n",
    " \n",
    "print(classification_report(Y_test,Y_pred))\n",
    "\n",
    "\n",
    "# accuracy_score\n",
    "acc=accuracy_score(Y_test, Y_pred)\n",
    "print(\"Accuracy of the model: \",acc)"
   ]
  },
  {
   "cell_type": "code",
   "execution_count": null,
   "id": "501c83de-92b4-4c5c-9718-59b1a6856b8d",
   "metadata": {},
   "outputs": [],
   "source": []
  },
  {
   "cell_type": "code",
   "execution_count": null,
   "id": "54c8b9ab-8f3a-4733-ac81-467170e9caf5",
   "metadata": {},
   "outputs": [],
   "source": []
  },
  {
   "cell_type": "markdown",
   "id": "0f4b6bb3-e24d-4f7f-a2d8-b63269f44523",
   "metadata": {},
   "source": [
    "# TUNNED LOGISTIC REGRESSION"
   ]
  },
  {
   "cell_type": "code",
   "execution_count": 53,
   "id": "3b4071d4-948b-4863-b454-19ede737cecf",
   "metadata": {},
   "outputs": [
    {
     "name": "stdout",
     "output_type": "stream",
     "text": [
      "[[9.99999956e-01 4.41825110e-08]\n",
      " [9.83990407e-01 1.60095934e-02]\n",
      " [3.09894077e-01 6.90105923e-01]\n",
      " ...\n",
      " [9.99999894e-01 1.05507704e-07]\n",
      " [1.95003078e-05 9.99980500e-01]\n",
      " [1.45253956e-01 8.54746044e-01]]\n",
      "[[1232   41]\n",
      " [  66 1098]]\n",
      "Classification report: \n",
      "              precision    recall  f1-score   support\n",
      "\n",
      "           0       0.95      0.97      0.96      1273\n",
      "           1       0.96      0.94      0.95      1164\n",
      "\n",
      "    accuracy                           0.96      2437\n",
      "   macro avg       0.96      0.96      0.96      2437\n",
      "weighted avg       0.96      0.96      0.96      2437\n",
      "\n",
      "Accuracy of the model:  0.9560935576528519\n"
     ]
    }
   ],
   "source": [
    "# store the predicted probabilities\n",
    "y_pred_prob = classifier.predict_proba(X_test)\n",
    "print(y_pred_prob)\n",
    "\n",
    "\n",
    "y_pred_class = []\n",
    "for value in y_pred_prob[:,1]:\n",
    "    if value >0.58:                         # agar value 0.5 se jayada h to consider as 1\n",
    "        y_pred_class.append(1)\n",
    "    else:\n",
    "        y_pred_class.append(0)              # agar value 0.5 se kum h to consider as 0\n",
    "\n",
    "\n",
    "from sklearn.metrics import confusion_matrix, accuracy_score, classification_report\n",
    " \n",
    "# confusion matrix\n",
    "cfm=confusion_matrix(Y_test,y_pred_class)\n",
    "print(cfm)\n",
    " \n",
    "print(\"Classification report: \")\n",
    " \n",
    "print(classification_report(Y_test,y_pred_class))\n",
    "\n",
    "\n",
    "# accuracy_score\n",
    "acc=accuracy_score(Y_test, y_pred_class)\n",
    "print(\"Accuracy of the model: \",acc)"
   ]
  },
  {
   "cell_type": "code",
   "execution_count": null,
   "id": "56b71cf5-425d-4313-8cb7-04a1022ac871",
   "metadata": {},
   "outputs": [],
   "source": []
  },
  {
   "cell_type": "code",
   "execution_count": null,
   "id": "d6a4f7e1-6a85-46c3-83fa-5625b9665f2e",
   "metadata": {},
   "outputs": [],
   "source": []
  },
  {
   "cell_type": "markdown",
   "id": "90687e1c-f641-4b10-b483-026bb2494160",
   "metadata": {},
   "source": [
    "# DECISION TREE"
   ]
  },
  {
   "cell_type": "code",
   "execution_count": 54,
   "id": "841ea93a-7893-43ed-ac41-5c4d119d4156",
   "metadata": {},
   "outputs": [
    {
     "name": "stdout",
     "output_type": "stream",
     "text": [
      "[[1273    0]\n",
      " [   0 1164]]\n",
      "1.0\n",
      "              precision    recall  f1-score   support\n",
      "\n",
      "           0       1.00      1.00      1.00      1273\n",
      "           1       1.00      1.00      1.00      1164\n",
      "\n",
      "    accuracy                           1.00      2437\n",
      "   macro avg       1.00      1.00      1.00      2437\n",
      "weighted avg       1.00      1.00      1.00      2437\n",
      "\n"
     ]
    },
    {
     "data": {
      "text/plain": [
       "1.0"
      ]
     },
     "execution_count": 54,
     "metadata": {},
     "output_type": "execute_result"
    }
   ],
   "source": [
    "#predicting using the Decision_Tree_Classifier\n",
    "from sklearn.tree import DecisionTreeClassifier\n",
    "\n",
    "model_DT=DecisionTreeClassifier(random_state=10, \n",
    "                                         criterion=\"gini\")\n",
    "#min_samples_leaf, min_samples_split, max_depth, max_features, max_leaf_nodes\n",
    "\n",
    "#fit the model on the data and predict the values\n",
    "model_DT.fit(X_train,Y_train)\n",
    "Y_pred=model_DT.predict(X_test)\n",
    "#print(Y_pred)\n",
    "#print(list(zip(Y_test,Y_pred)))\n",
    "\n",
    "from sklearn.metrics import confusion_matrix, accuracy_score,classification_report\n",
    "#confusion matrix\n",
    "print(confusion_matrix(Y_test,Y_pred))\n",
    "print(accuracy_score(Y_test,Y_pred))\n",
    "print(classification_report(Y_test,Y_pred))\n",
    "\n",
    "model_DT.score(X_train,Y_train)"
   ]
  },
  {
   "cell_type": "markdown",
   "id": "100a490d-674a-4c97-8b87-0c402cd2335c",
   "metadata": {},
   "source": [
    "MODEL IS OVERFITTING"
   ]
  },
  {
   "cell_type": "code",
   "execution_count": null,
   "id": "028a981b-b2e3-4d50-84e5-5f088fea50c0",
   "metadata": {},
   "outputs": [],
   "source": []
  },
  {
   "cell_type": "code",
   "execution_count": null,
   "id": "a8f21352-9eb1-4aca-bb79-ed01e88e7886",
   "metadata": {},
   "outputs": [],
   "source": []
  },
  {
   "cell_type": "markdown",
   "id": "8cecfe17-2ba8-45b8-bb31-4087c9632dc6",
   "metadata": {},
   "source": [
    "# TUNNED LOGISTIC REGRESSION"
   ]
  },
  {
   "cell_type": "code",
   "execution_count": 56,
   "id": "92e2f5fb-f143-417b-b3cf-0e2423df79d8",
   "metadata": {},
   "outputs": [
    {
     "name": "stdout",
     "output_type": "stream",
     "text": [
      "Best Parameters: {'criterion': 'entropy', 'max_depth': None, 'min_samples_leaf': 1, 'min_samples_split': 2}\n",
      "Test Accuracy: 1.0\n"
     ]
    }
   ],
   "source": [
    "from sklearn.model_selection import GridSearchCV, train_test_split\n",
    "\n",
    "# Define the model\n",
    "dt = DecisionTreeClassifier(random_state=42)\n",
    "\n",
    "# Define the hyperparameter grid\n",
    "param_grid = {\n",
    "    'criterion': ['gini', 'entropy'],\n",
    "    'max_depth': [None, 3, 5, 10],\n",
    "    'min_samples_split': [2, 5, 10],\n",
    "    'min_samples_leaf': [1, 2, 4]\n",
    "}\n",
    "\n",
    "# Perform Grid Search\n",
    "grid_search = GridSearchCV(dt, param_grid, cv=5, scoring='accuracy')\n",
    "grid_search.fit(X_train, Y_train)\n",
    "\n",
    "# Best parameters and accuracy\n",
    "print(\"Best Parameters:\", grid_search.best_params_)\n",
    "\n",
    "# Test accuracy\n",
    "best_model = grid_search.best_estimator_\n",
    "y_pred = best_model.predict(X_test)\n",
    "print(\"Test Accuracy:\", accuracy_score(Y_test, y_pred))"
   ]
  },
  {
   "cell_type": "code",
   "execution_count": null,
   "id": "95216d6e-96d8-4f0f-a53e-e479e7b2b56f",
   "metadata": {},
   "outputs": [],
   "source": []
  },
  {
   "cell_type": "code",
   "execution_count": null,
   "id": "b92a59e1-349c-4f75-b86a-b3b479370e06",
   "metadata": {},
   "outputs": [],
   "source": []
  },
  {
   "cell_type": "markdown",
   "id": "d5b89e6f-936e-426d-9f75-e3e31b3a815b",
   "metadata": {},
   "source": [
    "# RANDOM FOREST"
   ]
  },
  {
   "cell_type": "code",
   "execution_count": 57,
   "id": "496fb7f9-7f07-49dd-9bd5-326245a1902f",
   "metadata": {},
   "outputs": [
    {
     "name": "stdout",
     "output_type": "stream",
     "text": [
      "[[1273    0]\n",
      " [   0 1164]]\n",
      "1.0\n",
      "              precision    recall  f1-score   support\n",
      "\n",
      "           0       1.00      1.00      1.00      1273\n",
      "           1       1.00      1.00      1.00      1164\n",
      "\n",
      "    accuracy                           1.00      2437\n",
      "   macro avg       1.00      1.00      1.00      2437\n",
      "weighted avg       1.00      1.00      1.00      2437\n",
      "\n"
     ]
    }
   ],
   "source": [
    "#predicting using the Random_Forest_Classifier\n",
    "from sklearn.ensemble import RandomForestClassifier\n",
    "\n",
    "model_RandomForest=RandomForestClassifier(n_estimators=100,\n",
    "                                          random_state=10, bootstrap=True,\n",
    "                                         n_jobs=-1)\n",
    "\n",
    "#fit the model on the data and predict the values\n",
    "model_RandomForest.fit(X_train,Y_train)\n",
    "\n",
    "Y_pred=model_RandomForest.predict(X_test)\n",
    "\n",
    "\n",
    "from sklearn.metrics import confusion_matrix, accuracy_score,classification_report\n",
    "#confusion matrix\n",
    "print(confusion_matrix(Y_test,Y_pred))\n",
    "print(accuracy_score(Y_test,Y_pred))\n",
    "print(classification_report(Y_test,Y_pred))"
   ]
  },
  {
   "cell_type": "code",
   "execution_count": null,
   "id": "7bd403dd-da4d-4592-9cac-ae9c008685cf",
   "metadata": {},
   "outputs": [],
   "source": []
  },
  {
   "cell_type": "code",
   "execution_count": null,
   "id": "b288a721-1c5b-430f-be09-f890e80a35a5",
   "metadata": {},
   "outputs": [],
   "source": []
  },
  {
   "cell_type": "code",
   "execution_count": 59,
   "id": "27bda9b5-4529-487b-90a3-0395002b8d12",
   "metadata": {},
   "outputs": [
    {
     "name": "stdout",
     "output_type": "stream",
     "text": [
      "Best Parameters: {'criterion': 'gini', 'max_depth': None, 'min_samples_leaf': 1, 'min_samples_split': 2, 'n_estimators': 50}\n",
      "Test Accuracy: 1.0\n"
     ]
    }
   ],
   "source": [
    "# Define model\n",
    "rf = RandomForestClassifier(random_state=42)\n",
    "\n",
    "# Define hyperparameter grid\n",
    "param_grid = {\n",
    "    'n_estimators': [50, 100, 150],\n",
    "    'max_depth': [None, 5, 10],\n",
    "    'min_samples_split': [2, 5],\n",
    "    'min_samples_leaf': [1, 2],\n",
    "    'criterion': ['gini', 'entropy']\n",
    "}\n",
    "\n",
    "# Grid search\n",
    "grid_search = GridSearchCV(rf, param_grid, cv=5, scoring='accuracy', n_jobs=-1)\n",
    "grid_search.fit(X_train, Y_train)\n",
    "\n",
    "# Best parameters and test accuracy\n",
    "print(\"Best Parameters:\", grid_search.best_params_)\n",
    "best_model = grid_search.best_estimator_\n",
    "y_pred = best_model.predict(X_test)\n",
    "print(\"Test Accuracy:\", accuracy_score(Y_test, y_pred))"
   ]
  },
  {
   "cell_type": "code",
   "execution_count": null,
   "id": "cffcc929-691a-4d32-91f2-f67ded09d638",
   "metadata": {},
   "outputs": [],
   "source": []
  },
  {
   "cell_type": "code",
   "execution_count": null,
   "id": "0eed647e-c06f-4903-9dc7-fcbb702d7002",
   "metadata": {},
   "outputs": [],
   "source": []
  },
  {
   "cell_type": "markdown",
   "id": "7e346ac1-2a8d-45f4-93ef-6f3ae4727f74",
   "metadata": {},
   "source": [
    "# CONCLUSION"
   ]
  },
  {
   "cell_type": "markdown",
   "id": "b8403915-674d-4e1f-8fa3-f8f028917314",
   "metadata": {},
   "source": [
    "Here logistic regression is giving ggod accuracy and rest of model gives the 100% accuracy   \n",
    "but we take margin of 3% that why i prefer logistic regression as the best model"
   ]
  },
  {
   "cell_type": "code",
   "execution_count": null,
   "id": "03d72701-3cd1-4ac6-8445-ea4140439607",
   "metadata": {},
   "outputs": [],
   "source": []
  },
  {
   "cell_type": "code",
   "execution_count": null,
   "id": "833530be-7568-418a-80f1-c9adaa738906",
   "metadata": {},
   "outputs": [],
   "source": []
  }
 ],
 "metadata": {
  "kernelspec": {
   "display_name": "Python 3 (ipykernel)",
   "language": "python",
   "name": "python3"
  },
  "language_info": {
   "codemirror_mode": {
    "name": "ipython",
    "version": 3
   },
   "file_extension": ".py",
   "mimetype": "text/x-python",
   "name": "python",
   "nbconvert_exporter": "python",
   "pygments_lexer": "ipython3",
   "version": "3.12.4"
  }
 },
 "nbformat": 4,
 "nbformat_minor": 5
}
